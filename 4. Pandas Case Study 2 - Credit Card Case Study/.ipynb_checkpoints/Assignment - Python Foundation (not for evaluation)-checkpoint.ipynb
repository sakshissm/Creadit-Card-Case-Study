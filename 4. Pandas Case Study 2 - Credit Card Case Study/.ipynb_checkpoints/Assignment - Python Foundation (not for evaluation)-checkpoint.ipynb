{
 "cells": [
  {
   "cell_type": "markdown",
   "metadata": {},
   "source": [
    "### Assignment - Python Foundation"
   ]
  },
  {
   "cell_type": "raw",
   "metadata": {},
   "source": [
    "Q1: What is the output of following expression\n",
    "    5 + 4 * 9 % (3 + 1) / 6 - 1"
   ]
  },
  {
   "cell_type": "code",
   "execution_count": null,
   "metadata": {},
   "outputs": [],
   "source": []
  },
  {
   "cell_type": "raw",
   "metadata": {},
   "source": [
    "Q2: Write a program to check if a Number is Odd or Even. Take number as a input from user at runtime."
   ]
  },
  {
   "cell_type": "code",
   "execution_count": null,
   "metadata": {},
   "outputs": [],
   "source": []
  },
  {
   "cell_type": "raw",
   "metadata": {},
   "source": [
    "Q3: Write a program to display the table by taking the number as input. \n",
    "    [Hint : Use print statement inside of a loop]"
   ]
  },
  {
   "cell_type": "code",
   "execution_count": null,
   "metadata": {},
   "outputs": [],
   "source": []
  },
  {
   "cell_type": "raw",
   "metadata": {},
   "source": [
    "Q4: Write a program which will find all numbers between 2000 and 3200 which are divisible by 7 \n",
    "    but are not a multiple of 5.\n",
    " \n",
    "Note: The numbers obtained should be printed in a comma-separated sequence on a single line."
   ]
  },
  {
   "cell_type": "code",
   "execution_count": null,
   "metadata": {},
   "outputs": [],
   "source": []
  },
  {
   "cell_type": "raw",
   "metadata": {},
   "source": [
    "Q5: Count the elements of each datatype inside the list and display in output\n",
    "    [2, 3, 'Py', '10', 1, 'SQL', 5.5, True, 3, 'John', None, 7]    "
   ]
  },
  {
   "cell_type": "code",
   "execution_count": null,
   "metadata": {},
   "outputs": [],
   "source": []
  },
  {
   "cell_type": "raw",
   "metadata": {},
   "source": [
    "Q6: Add all values from the list with numeric datatypes \n",
    "    [2, 3, 'Py', '10', 1, 'SQL', 5.5, True, 3, 'John', None, 7] "
   ]
  },
  {
   "cell_type": "code",
   "execution_count": null,
   "metadata": {},
   "outputs": [],
   "source": []
  },
  {
   "cell_type": "raw",
   "metadata": {},
   "source": [
    "Q7: Concat all str datatypes with hyphen as a delimiter\n",
    "    [2, 3, 'Py', '10', 1, 'SQL', 5.5, True, 3, 'John', None, 7] "
   ]
  },
  {
   "cell_type": "code",
   "execution_count": null,
   "metadata": {},
   "outputs": [],
   "source": []
  },
  {
   "cell_type": "raw",
   "metadata": {},
   "source": [
    "Q8: Write a UDF that takes list as input and returns sum of all numbers \n",
    "    (exclude bool) and count of all str \n",
    "    2, 3, 'Py', '10', 1, 'SQL', 5.5, True, 3, 'John', None, 7\n",
    "    \n",
    "Hint:\n",
    "-----\n",
    "def my_func:\n",
    "    # your code\n",
    "        \n",
    "my_func(l1)\n",
    "# output --> {'Sum': xxx, 'Count_of_Strs': xxx}"
   ]
  },
  {
   "cell_type": "code",
   "execution_count": null,
   "metadata": {},
   "outputs": [],
   "source": []
  },
  {
   "cell_type": "raw",
   "metadata": {},
   "source": [
    "Q9: Get only odd numbers from the following list and store the numbers in new list\n",
    "    li = [5, 7, 22, 97, 54, 62, 77, 23, 73, 61]\n",
    "\n",
    "    i. Use loops to get the answer\n",
    "   ii. Use list comprehensions\n",
    "  iii. Use lambda function with map"
   ]
  },
  {
   "cell_type": "code",
   "execution_count": null,
   "metadata": {},
   "outputs": [],
   "source": []
  },
  {
   "cell_type": "raw",
   "metadata": {},
   "source": [
    "Q10: Write a UDF to return the descriptives [sum, count, min, mean, max] for the n number of input \n",
    "    numbers."
   ]
  },
  {
   "cell_type": "code",
   "execution_count": null,
   "metadata": {},
   "outputs": [],
   "source": []
  },
  {
   "cell_type": "raw",
   "metadata": {},
   "source": [
    "Q11: Write an udf to calculate the area of different shapes\n",
    "\n",
    "Take shape and dimensions as arguments to udf as follows : \n",
    "\n",
    "1. square which has side\n",
    "2. rectangle which has length and width\n",
    "3. circle which has radius\n",
    "\n",
    "The shape should be a positional argument and it's dimensions are taken as kwargs\n",
    "\n",
    "Perform proper validation for the user inputs and then calculate area.\n",
    "\n",
    "E.g. if shape is square, ensure kwargs has \"side\" and if so, then you may return the area, else display appropriate error message like \"Please enter 'side' for a square\"\n",
    "\n",
    "def fn_area(shape, **kwargs):\n",
    "\n",
    "    function defination\n",
    "    \n",
    "    return Area\n",
    "\n",
    "fn_area('square', side = 10)"
   ]
  },
  {
   "cell_type": "code",
   "execution_count": null,
   "metadata": {},
   "outputs": [],
   "source": []
  },
  {
   "cell_type": "raw",
   "metadata": {},
   "source": [
    "Q12: Write a UDF to reconcile the values within two lists.\n",
    "    l1 = ['January', 'February', 'March', 'May', 'June', 'September', 'December']\n",
    "    l2 = ['January', 'February', 'April', 'June', 'October', 'December']\n",
    "\n",
    "Hint:\n",
    "-----\n",
    "def func(l1, l2):\n",
    "    your code here...\n",
    "    \n",
    "Output:\n",
    "{'Matched': ['January', 'February', 'June', 'December'],\n",
    "    'Only in l1': ['March', 'May', 'September'],\n",
    "        'Only in l2': ['April', 'October']}"
   ]
  },
  {
   "cell_type": "code",
   "execution_count": null,
   "metadata": {},
   "outputs": [],
   "source": []
  }
 ],
 "metadata": {
  "kernelspec": {
   "display_name": "Python 3",
   "language": "python",
   "name": "python3"
  },
  "language_info": {
   "codemirror_mode": {
    "name": "ipython",
    "version": 3
   },
   "file_extension": ".py",
   "mimetype": "text/x-python",
   "name": "python",
   "nbconvert_exporter": "python",
   "pygments_lexer": "ipython3",
   "version": "3.7.0"
  }
 },
 "nbformat": 4,
 "nbformat_minor": 2
}
